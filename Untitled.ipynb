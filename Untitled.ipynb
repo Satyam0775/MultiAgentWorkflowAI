{
 "cells": [
  {
   "cell_type": "code",
   "execution_count": 1,
   "id": "3ddc3a7b-b1aa-4f08-84ef-77a7c0d75d67",
   "metadata": {},
   "outputs": [
    {
     "name": "stdout",
     "output_type": "stream",
     "text": [
      "Requirement already satisfied: openai in c:\\users\\satya\\againt ai\\virtual\\lib\\site-packages (1.52.2)Note: you may need to restart the kernel to use updated packages.\n",
      "\n",
      "Requirement already satisfied: anyio<5,>=3.5.0 in c:\\users\\satya\\againt ai\\virtual\\lib\\site-packages (from openai) (4.6.2.post1)\n",
      "Requirement already satisfied: distro<2,>=1.7.0 in c:\\users\\satya\\againt ai\\virtual\\lib\\site-packages (from openai) (1.9.0)\n",
      "Requirement already satisfied: httpx<1,>=0.23.0 in c:\\users\\satya\\againt ai\\virtual\\lib\\site-packages (from openai) (0.27.2)\n",
      "Requirement already satisfied: jiter<1,>=0.4.0 in c:\\users\\satya\\againt ai\\virtual\\lib\\site-packages (from openai) (0.6.1)\n",
      "Requirement already satisfied: pydantic<3,>=1.9.0 in c:\\users\\satya\\againt ai\\virtual\\lib\\site-packages (from openai) (2.9.2)\n",
      "Requirement already satisfied: sniffio in c:\\users\\satya\\againt ai\\virtual\\lib\\site-packages (from openai) (1.3.1)\n",
      "Requirement already satisfied: tqdm>4 in c:\\users\\satya\\againt ai\\virtual\\lib\\site-packages (from openai) (4.66.5)\n",
      "Requirement already satisfied: typing-extensions<5,>=4.11 in c:\\users\\satya\\againt ai\\virtual\\lib\\site-packages (from openai) (4.12.2)\n",
      "Requirement already satisfied: idna>=2.8 in c:\\users\\satya\\againt ai\\virtual\\lib\\site-packages (from anyio<5,>=3.5.0->openai) (3.10)\n",
      "Requirement already satisfied: certifi in c:\\users\\satya\\againt ai\\virtual\\lib\\site-packages (from httpx<1,>=0.23.0->openai) (2024.8.30)\n",
      "Requirement already satisfied: httpcore==1.* in c:\\users\\satya\\againt ai\\virtual\\lib\\site-packages (from httpx<1,>=0.23.0->openai) (1.0.6)\n",
      "Requirement already satisfied: h11<0.15,>=0.13 in c:\\users\\satya\\againt ai\\virtual\\lib\\site-packages (from httpcore==1.*->httpx<1,>=0.23.0->openai) (0.14.0)\n",
      "Requirement already satisfied: annotated-types>=0.6.0 in c:\\users\\satya\\againt ai\\virtual\\lib\\site-packages (from pydantic<3,>=1.9.0->openai) (0.7.0)\n",
      "Requirement already satisfied: pydantic-core==2.23.4 in c:\\users\\satya\\againt ai\\virtual\\lib\\site-packages (from pydantic<3,>=1.9.0->openai) (2.23.4)\n",
      "Requirement already satisfied: colorama in c:\\users\\satya\\againt ai\\virtual\\lib\\site-packages (from tqdm>4->openai) (0.4.6)\n"
     ]
    }
   ],
   "source": [
    "pip install openai\n"
   ]
  },
  {
   "cell_type": "code",
   "execution_count": 2,
   "id": "c541f02b-adfa-4935-9436-397c2d56b6a3",
   "metadata": {},
   "outputs": [
    {
     "name": "stdout",
     "output_type": "stream",
     "text": [
      "Requirement already satisfied: requests in c:\\users\\satya\\againt ai\\virtual\\lib\\site-packages (2.32.3)\n",
      "Requirement already satisfied: charset-normalizer<4,>=2 in c:\\users\\satya\\againt ai\\virtual\\lib\\site-packages (from requests) (3.4.0)\n",
      "Requirement already satisfied: idna<4,>=2.5 in c:\\users\\satya\\againt ai\\virtual\\lib\\site-packages (from requests) (3.10)\n",
      "Requirement already satisfied: urllib3<3,>=1.21.1 in c:\\users\\satya\\againt ai\\virtual\\lib\\site-packages (from requests) (2.2.3)\n",
      "Requirement already satisfied: certifi>=2017.4.17 in c:\\users\\satya\\againt ai\\virtual\\lib\\site-packages (from requests) (2024.8.30)\n",
      "Note: you may need to restart the kernel to use updated packages.\n"
     ]
    }
   ],
   "source": [
    "pip install requests\n"
   ]
  },
  {
   "cell_type": "code",
   "execution_count": 3,
   "id": "81555d90-0324-4074-af38-dbc18407a504",
   "metadata": {},
   "outputs": [
    {
     "name": "stdout",
     "output_type": "stream",
     "text": [
      "Collecting google-search-results\n",
      "  Using cached google_search_results-2.4.2-py3-none-any.whl\n",
      "Requirement already satisfied: requests in c:\\users\\satya\\againt ai\\virtual\\lib\\site-packages (from google-search-results) (2.32.3)\n",
      "Requirement already satisfied: charset-normalizer<4,>=2 in c:\\users\\satya\\againt ai\\virtual\\lib\\site-packages (from requests->google-search-results) (3.4.0)\n",
      "Requirement already satisfied: idna<4,>=2.5 in c:\\users\\satya\\againt ai\\virtual\\lib\\site-packages (from requests->google-search-results) (3.10)\n",
      "Requirement already satisfied: urllib3<3,>=1.21.1 in c:\\users\\satya\\againt ai\\virtual\\lib\\site-packages (from requests->google-search-results) (2.2.3)\n",
      "Requirement already satisfied: certifi>=2017.4.17 in c:\\users\\satya\\againt ai\\virtual\\lib\\site-packages (from requests->google-search-results) (2024.8.30)\n",
      "Installing collected packages: google-search-results\n",
      "Successfully installed google-search-results-2.4.2\n",
      "Note: you may need to restart the kernel to use updated packages.\n"
     ]
    }
   ],
   "source": [
    "pip install google-search-results\n"
   ]
  },
  {
   "cell_type": "code",
   "execution_count": 4,
   "id": "5b7b79b6-0e1a-46c6-8d46-3a8738aa8f81",
   "metadata": {},
   "outputs": [
    {
     "name": "stdout",
     "output_type": "stream",
     "text": [
      "Requirement already satisfied: beautifulsoup4 in c:\\users\\satya\\againt ai\\virtual\\lib\\site-packages (4.12.3)\n",
      "Requirement already satisfied: requests in c:\\users\\satya\\againt ai\\virtual\\lib\\site-packages (2.32.3)\n",
      "Requirement already satisfied: soupsieve>1.2 in c:\\users\\satya\\againt ai\\virtual\\lib\\site-packages (from beautifulsoup4) (2.6)\n",
      "Requirement already satisfied: charset-normalizer<4,>=2 in c:\\users\\satya\\againt ai\\virtual\\lib\\site-packages (from requests) (3.4.0)\n",
      "Requirement already satisfied: idna<4,>=2.5 in c:\\users\\satya\\againt ai\\virtual\\lib\\site-packages (from requests) (3.10)\n",
      "Requirement already satisfied: urllib3<3,>=1.21.1 in c:\\users\\satya\\againt ai\\virtual\\lib\\site-packages (from requests) (2.2.3)\n",
      "Requirement already satisfied: certifi>=2017.4.17 in c:\\users\\satya\\againt ai\\virtual\\lib\\site-packages (from requests) (2024.8.30)\n",
      "Note: you may need to restart the kernel to use updated packages.\n"
     ]
    }
   ],
   "source": [
    "pip install beautifulsoup4 requests\n"
   ]
  },
  {
   "cell_type": "code",
   "execution_count": 5,
   "id": "a0c3252c-a6f3-47e4-ba84-6a7355934e01",
   "metadata": {},
   "outputs": [
    {
     "name": "stdout",
     "output_type": "stream",
     "text": [
      "Note: you may need to restart the kernel to use updated packages.\n"
     ]
    },
    {
     "name": "stderr",
     "output_type": "stream",
     "text": [
      "ERROR: Could not find a version that satisfies the requirement tavily (from versions: none)\n",
      "ERROR: No matching distribution found for tavily\n"
     ]
    }
   ],
   "source": [
    "pip install tavily\n"
   ]
  },
  {
   "cell_type": "code",
   "execution_count": 6,
   "id": "83ecb567-f88a-404d-ac67-ab069c09d678",
   "metadata": {},
   "outputs": [
    {
     "name": "stdout",
     "output_type": "stream",
     "text": [
      "Top 5 results for Deloitte in Retail industry:\n",
      "Title: Future of Retail: Profitable Growth through Technology & AI\n",
      "URL: https://www2.deloitte.com/in/en/pages/consumer-business/articles/future-of-retail-profitable-growth-through-technology-and-AI.html\n",
      "\n",
      "Title: Future of retail: Profitable growth through technology and AI\n",
      "URL: https://www2.deloitte.com/content/dam/Deloitte/in/Documents/consumer-business/in-cb-future-of-retail-profitable-growth-through-technology-and-AI-noexp.pdf\n",
      "\n",
      "Title: Leveraging AI to connect the retail enterprise of the future\n",
      "URL: https://www2.deloitte.com/ca/en/pages/consumer-industrial-products/articles/age-of-with-ai.html\n",
      "\n",
      "Title: Retail reimagined\n",
      "URL: https://www2.deloitte.com/content/dam/Deloitte/ch/Documents/consumer-business/ch-deloitte-retail-reimagined-en.pdf\n",
      "\n",
      "Title: Global Retail Outlook 2024\n",
      "URL: https://www.deloitte.com/global/en/Industries/consumer/analysis/global-retail-outlook.html\n",
      "\n"
     ]
    }
   ],
   "source": [
    "import requests\n",
    "\n",
    "# SerpAPI Key\n",
    "SERPAPI_API_KEY =  '0851f2ce550f2bccec6ab7cdaca6da39cdf727aec698bdc530099ba3c122e311'  # Replace with your actual SerpAPI key\n",
    "\n",
    "# SerpAPI URL\n",
    "SERPAPI_URL = \"https://serpapi.com/search.json\"\n",
    "\n",
    "def industry_research(company_name, industry_name):\n",
    "    \"\"\"\n",
    "    Function to search the web using SerpAPI and gather industry reports or insights.\n",
    "    \"\"\"\n",
    "    query = f\"{company_name} {industry_name} AI trends\"\n",
    "    params = {\n",
    "        \"api_key\": SERPAPI_API_KEY,  # Your API key for authentication\n",
    "        \"q\": query,  # Search query\n",
    "        \"num\": 5  # Fetch top 5 search results\n",
    "    }\n",
    "    \n",
    "    response = requests.get(SERPAPI_URL, params=params)\n",
    "    \n",
    "    if response.status_code == 200:\n",
    "        search_results = response.json()\n",
    "        return search_results.get('organic_results', [])\n",
    "    else:\n",
    "        return {\"error\": response.text}\n",
    "\n",
    "# Example Usage:\n",
    "company_name = \"Deloitte\"\n",
    "industry_name = \"Retail\"\n",
    "research_results = industry_research(company_name, industry_name)\n",
    "\n",
    "# Display the results\n",
    "if 'error' not in research_results:\n",
    "    print(f\"Top 5 results for {company_name} in {industry_name} industry:\")\n",
    "    for result in research_results:\n",
    "        print(f\"Title: {result.get('title')}\\nURL: {result.get('link')}\\n\")  # Adjusted key from 'url' to 'link'\n",
    "else:\n",
    "    print(\"Error:\", research_results['error'])\n"
   ]
  },
  {
   "cell_type": "code",
   "execution_count": 7,
   "id": "1aa920ed-7965-4689-96a6-035d43ecaf03",
   "metadata": {},
   "outputs": [
    {
     "name": "stdout",
     "output_type": "stream",
     "text": [
      "Title: Personalized Shopping Experience\n",
      "Description: Deloitte can leverage AI to enhance the customer shopping experience by analyzing consumer behavior data and generating personalized recommendations in the Retail sector.\n",
      "Benefit: Increase in customer satisfaction and higher conversion rates.\n",
      "Trend: AI in retail personalization.\n",
      "\n",
      "Title: Inventory Management Optimization\n",
      "Description: Using AI to predict demand and optimize inventory levels based on sales trends and external factors (such as holidays or promotions) to minimize stockouts or overstock.\n",
      "Benefit: Improved inventory turnover and reduced holding costs.\n",
      "Trend: AI in supply chain optimization.\n",
      "\n",
      "Title: Automated Marketing Campaigns with GenAI\n",
      "Description: Using generative AI to automatically create marketing content such as personalized emails, social media posts, and product descriptions for the retail industry.\n",
      "Benefit: Reduced marketing costs and increased engagement.\n",
      "Trend: Generative AI for marketing automation.\n",
      "\n",
      "Title: Virtual Shopping Assistants\n",
      "Description: Develop virtual assistants powered by GenAI that can help customers navigate online stores, recommend products, and answer queries in real-time, mimicking an in-store shopping assistant.\n",
      "Benefit: Enhanced customer service and higher sales.\n",
      "Trend: GenAI-powered customer service in retail.\n",
      "\n"
     ]
    }
   ],
   "source": [
    "def generate_ai_use_cases(company_name, industry_name):\n",
    "    \"\"\"\n",
    "    Generate AI and GenAI use cases based on industry insights.\n",
    "    \"\"\"\n",
    "    use_cases = []\n",
    "    \n",
    "    # AI Use Case 1: Personalized Shopping Experience\n",
    "    use_cases.append({\n",
    "        \"title\": \"Personalized Shopping Experience\",\n",
    "        \"description\": f\"{company_name} can leverage AI to enhance the customer shopping experience by analyzing consumer behavior data and generating personalized recommendations in the {industry_name} sector.\",\n",
    "        \"potential_benefit\": \"Increase in customer satisfaction and higher conversion rates.\",\n",
    "        \"related_trend\": \"AI in retail personalization.\"\n",
    "    })\n",
    "    \n",
    "    # AI Use Case 2: Inventory Management Optimization\n",
    "    use_cases.append({\n",
    "        \"title\": \"Inventory Management Optimization\",\n",
    "        \"description\": f\"Using AI to predict demand and optimize inventory levels based on sales trends and external factors (such as holidays or promotions) to minimize stockouts or overstock.\",\n",
    "        \"potential_benefit\": \"Improved inventory turnover and reduced holding costs.\",\n",
    "        \"related_trend\": \"AI in supply chain optimization.\"\n",
    "    })\n",
    "    \n",
    "    # GenAI Use Case 1: Automated Marketing Campaigns\n",
    "    use_cases.append({\n",
    "        \"title\": \"Automated Marketing Campaigns with GenAI\",\n",
    "        \"description\": f\"Using generative AI to automatically create marketing content such as personalized emails, social media posts, and product descriptions for the retail industry.\",\n",
    "        \"potential_benefit\": \"Reduced marketing costs and increased engagement.\",\n",
    "        \"related_trend\": \"Generative AI for marketing automation.\"\n",
    "    })\n",
    "    \n",
    "    # GenAI Use Case 2: Virtual Shopping Assistants\n",
    "    use_cases.append({\n",
    "        \"title\": \"Virtual Shopping Assistants\",\n",
    "        \"description\": f\"Develop virtual assistants powered by GenAI that can help customers navigate online stores, recommend products, and answer queries in real-time, mimicking an in-store shopping assistant.\",\n",
    "        \"potential_benefit\": \"Enhanced customer service and higher sales.\",\n",
    "        \"related_trend\": \"GenAI-powered customer service in retail.\"\n",
    "    })\n",
    "    \n",
    "    return use_cases\n",
    "\n",
    "# Example Usage:\n",
    "use_cases = generate_ai_use_cases(\"Deloitte\", \"Retail\")\n",
    "for use_case in use_cases:\n",
    "    print(f\"Title: {use_case['title']}\\nDescription: {use_case['description']}\\nBenefit: {use_case['potential_benefit']}\\nTrend: {use_case['related_trend']}\\n\")\n"
   ]
  },
  {
   "cell_type": "code",
   "execution_count": 8,
   "id": "f8023985-1771-4a07-b618-990a54a93f5e",
   "metadata": {},
   "outputs": [
    {
     "name": "stdout",
     "output_type": "stream",
     "text": [
      "Dataset Title: Retail Customer Behavior Dataset\n",
      "Link: https://www.kaggle.com/c/retail-customer-data\n",
      "\n",
      "Dataset Title: Inventory Forecasting Dataset\n",
      "Link: https://www.kaggle.com/c/inventory-management-data\n",
      "\n",
      "Dataset Title: Marketing Campaign Data\n",
      "Link: https://www.kaggle.com/c/marketing-data\n",
      "\n",
      "Dataset Title: Conversational AI Dataset\n",
      "Link: https://huggingface.co/datasets/conversational-ai\n",
      "\n"
     ]
    }
   ],
   "source": [
    "def search_datasets_for_use_cases(use_case_titles):\n",
    "    \"\"\"\n",
    "    Search for relevant datasets for the generated AI/GenAI use cases.\n",
    "    \"\"\"\n",
    "    datasets = []\n",
    "    for title in use_case_titles:\n",
    "        # Simulated search for datasets related to the use case title\n",
    "        if \"Personalized Shopping\" in title:\n",
    "            datasets.append({\n",
    "                \"title\": \"Retail Customer Behavior Dataset\",\n",
    "                \"link\": \"https://www.kaggle.com/c/retail-customer-data\"\n",
    "            })\n",
    "        elif \"Inventory Management\" in title:\n",
    "            datasets.append({\n",
    "                \"title\": \"Inventory Forecasting Dataset\",\n",
    "                \"link\": \"https://www.kaggle.com/c/inventory-management-data\"\n",
    "            })\n",
    "        elif \"Marketing Campaigns\" in title:\n",
    "            datasets.append({\n",
    "                \"title\": \"Marketing Campaign Data\",\n",
    "                \"link\": \"https://www.kaggle.com/c/marketing-data\"\n",
    "            })\n",
    "        elif \"Virtual Shopping Assistants\" in title:\n",
    "            datasets.append({\n",
    "                \"title\": \"Conversational AI Dataset\",\n",
    "                \"link\": \"https://huggingface.co/datasets/conversational-ai\"\n",
    "            })\n",
    "    \n",
    "    return datasets\n",
    "\n",
    "# Example Usage:\n",
    "use_case_titles = [use_case['title'] for use_case in use_cases]\n",
    "datasets = search_datasets_for_use_cases(use_case_titles)\n",
    "for dataset in datasets:\n",
    "    print(f\"Dataset Title: {dataset['title']}\\nLink: {dataset['link']}\\n\")\n"
   ]
  },
  {
   "cell_type": "code",
   "execution_count": 9,
   "id": "93332b3b-e080-4d50-8151-38c1305f7ef1",
   "metadata": {},
   "outputs": [
    {
     "name": "stdout",
     "output_type": "stream",
     "text": [
      "Requirement already satisfied: langchain in c:\\users\\satya\\againt ai\\virtual\\lib\\site-packages (0.3.4)\n",
      "Requirement already satisfied: requests in c:\\users\\satya\\againt ai\\virtual\\lib\\site-packages (2.32.3)\n",
      "Requirement already satisfied: PyYAML>=5.3 in c:\\users\\satya\\againt ai\\virtual\\lib\\site-packages (from langchain) (6.0.2)\n",
      "Requirement already satisfied: SQLAlchemy<3,>=1.4 in c:\\users\\satya\\againt ai\\virtual\\lib\\site-packages (from langchain) (2.0.36)\n",
      "Requirement already satisfied: aiohttp<4.0.0,>=3.8.3 in c:\\users\\satya\\againt ai\\virtual\\lib\\site-packages (from langchain) (3.10.10)\n",
      "Requirement already satisfied: langchain-core<0.4.0,>=0.3.12 in c:\\users\\satya\\againt ai\\virtual\\lib\\site-packages (from langchain) (0.3.13)\n",
      "Requirement already satisfied: langchain-text-splitters<0.4.0,>=0.3.0 in c:\\users\\satya\\againt ai\\virtual\\lib\\site-packages (from langchain) (0.3.0)\n",
      "Requirement already satisfied: langsmith<0.2.0,>=0.1.17 in c:\\users\\satya\\againt ai\\virtual\\lib\\site-packages (from langchain) (0.1.137)\n",
      "Requirement already satisfied: numpy<2.0.0,>=1.26.0 in c:\\users\\satya\\againt ai\\virtual\\lib\\site-packages (from langchain) (1.26.4)\n",
      "Requirement already satisfied: pydantic<3.0.0,>=2.7.4 in c:\\users\\satya\\againt ai\\virtual\\lib\\site-packages (from langchain) (2.9.2)\n",
      "Requirement already satisfied: tenacity!=8.4.0,<10,>=8.1.0 in c:\\users\\satya\\againt ai\\virtual\\lib\\site-packages (from langchain) (9.0.0)\n",
      "Requirement already satisfied: charset-normalizer<4,>=2 in c:\\users\\satya\\againt ai\\virtual\\lib\\site-packages (from requests) (3.4.0)\n",
      "Requirement already satisfied: idna<4,>=2.5 in c:\\users\\satya\\againt ai\\virtual\\lib\\site-packages (from requests) (3.10)\n",
      "Requirement already satisfied: urllib3<3,>=1.21.1 in c:\\users\\satya\\againt ai\\virtual\\lib\\site-packages (from requests) (2.2.3)\n",
      "Requirement already satisfied: certifi>=2017.4.17 in c:\\users\\satya\\againt ai\\virtual\\lib\\site-packages (from requests) (2024.8.30)\n",
      "Requirement already satisfied: aiohappyeyeballs>=2.3.0 in c:\\users\\satya\\againt ai\\virtual\\lib\\site-packages (from aiohttp<4.0.0,>=3.8.3->langchain) (2.4.3)\n",
      "Requirement already satisfied: aiosignal>=1.1.2 in c:\\users\\satya\\againt ai\\virtual\\lib\\site-packages (from aiohttp<4.0.0,>=3.8.3->langchain) (1.3.1)\n",
      "Requirement already satisfied: attrs>=17.3.0 in c:\\users\\satya\\againt ai\\virtual\\lib\\site-packages (from aiohttp<4.0.0,>=3.8.3->langchain) (24.2.0)\n",
      "Requirement already satisfied: frozenlist>=1.1.1 in c:\\users\\satya\\againt ai\\virtual\\lib\\site-packages (from aiohttp<4.0.0,>=3.8.3->langchain) (1.5.0)\n",
      "Requirement already satisfied: multidict<7.0,>=4.5 in c:\\users\\satya\\againt ai\\virtual\\lib\\site-packages (from aiohttp<4.0.0,>=3.8.3->langchain) (6.1.0)\n",
      "Requirement already satisfied: yarl<2.0,>=1.12.0 in c:\\users\\satya\\againt ai\\virtual\\lib\\site-packages (from aiohttp<4.0.0,>=3.8.3->langchain) (1.16.0)\n",
      "Requirement already satisfied: jsonpatch<2.0,>=1.33 in c:\\users\\satya\\againt ai\\virtual\\lib\\site-packages (from langchain-core<0.4.0,>=0.3.12->langchain) (1.33)\n",
      "Requirement already satisfied: packaging<25,>=23.2 in c:\\users\\satya\\againt ai\\virtual\\lib\\site-packages (from langchain-core<0.4.0,>=0.3.12->langchain) (24.1)\n",
      "Requirement already satisfied: typing-extensions>=4.7 in c:\\users\\satya\\againt ai\\virtual\\lib\\site-packages (from langchain-core<0.4.0,>=0.3.12->langchain) (4.12.2)\n",
      "Requirement already satisfied: httpx<1,>=0.23.0 in c:\\users\\satya\\againt ai\\virtual\\lib\\site-packages (from langsmith<0.2.0,>=0.1.17->langchain) (0.27.2)\n",
      "Requirement already satisfied: orjson<4.0.0,>=3.9.14 in c:\\users\\satya\\againt ai\\virtual\\lib\\site-packages (from langsmith<0.2.0,>=0.1.17->langchain) (3.10.10)\n",
      "Requirement already satisfied: requests-toolbelt<2.0.0,>=1.0.0 in c:\\users\\satya\\againt ai\\virtual\\lib\\site-packages (from langsmith<0.2.0,>=0.1.17->langchain) (1.0.0)\n",
      "Requirement already satisfied: annotated-types>=0.6.0 in c:\\users\\satya\\againt ai\\virtual\\lib\\site-packages (from pydantic<3.0.0,>=2.7.4->langchain) (0.7.0)\n",
      "Requirement already satisfied: pydantic-core==2.23.4 in c:\\users\\satya\\againt ai\\virtual\\lib\\site-packages (from pydantic<3.0.0,>=2.7.4->langchain) (2.23.4)\n",
      "Requirement already satisfied: greenlet!=0.4.17 in c:\\users\\satya\\againt ai\\virtual\\lib\\site-packages (from SQLAlchemy<3,>=1.4->langchain) (3.1.1)\n",
      "Requirement already satisfied: anyio in c:\\users\\satya\\againt ai\\virtual\\lib\\site-packages (from httpx<1,>=0.23.0->langsmith<0.2.0,>=0.1.17->langchain) (4.6.2.post1)\n",
      "Requirement already satisfied: httpcore==1.* in c:\\users\\satya\\againt ai\\virtual\\lib\\site-packages (from httpx<1,>=0.23.0->langsmith<0.2.0,>=0.1.17->langchain) (1.0.6)\n",
      "Requirement already satisfied: sniffio in c:\\users\\satya\\againt ai\\virtual\\lib\\site-packages (from httpx<1,>=0.23.0->langsmith<0.2.0,>=0.1.17->langchain) (1.3.1)\n",
      "Requirement already satisfied: h11<0.15,>=0.13 in c:\\users\\satya\\againt ai\\virtual\\lib\\site-packages (from httpcore==1.*->httpx<1,>=0.23.0->langsmith<0.2.0,>=0.1.17->langchain) (0.14.0)\n",
      "Requirement already satisfied: jsonpointer>=1.9 in c:\\users\\satya\\againt ai\\virtual\\lib\\site-packages (from jsonpatch<2.0,>=1.33->langchain-core<0.4.0,>=0.3.12->langchain) (3.0.0)\n",
      "Requirement already satisfied: propcache>=0.2.0 in c:\\users\\satya\\againt ai\\virtual\\lib\\site-packages (from yarl<2.0,>=1.12.0->aiohttp<4.0.0,>=3.8.3->langchain) (0.2.0)\n"
     ]
    }
   ],
   "source": [
    "!pip install langchain requests\n"
   ]
  },
  {
   "cell_type": "code",
   "execution_count": 10,
   "id": "d0c351c1-c900-4b04-8370-cdfd9e071258",
   "metadata": {},
   "outputs": [
    {
     "name": "stdout",
     "output_type": "stream",
     "text": [
      "Requirement already satisfied: requests in c:\\users\\satya\\againt ai\\virtual\\lib\\site-packages (2.32.3)\n",
      "Requirement already satisfied: charset-normalizer<4,>=2 in c:\\users\\satya\\againt ai\\virtual\\lib\\site-packages (from requests) (3.4.0)\n",
      "Requirement already satisfied: idna<4,>=2.5 in c:\\users\\satya\\againt ai\\virtual\\lib\\site-packages (from requests) (3.10)\n",
      "Requirement already satisfied: urllib3<3,>=1.21.1 in c:\\users\\satya\\againt ai\\virtual\\lib\\site-packages (from requests) (2.2.3)\n",
      "Requirement already satisfied: certifi>=2017.4.17 in c:\\users\\satya\\againt ai\\virtual\\lib\\site-packages (from requests) (2024.8.30)\n"
     ]
    }
   ],
   "source": [
    "!pip install requests\n"
   ]
  },
  {
   "cell_type": "code",
   "execution_count": 11,
   "id": "be57b1d5-5e84-458f-bf14-f8f9b7fe8064",
   "metadata": {},
   "outputs": [
    {
     "name": "stdout",
     "output_type": "stream",
     "text": [
      "Requirement already satisfied: pandas in c:\\users\\satya\\againt ai\\virtual\\lib\\site-packages (2.2.3)\n",
      "Requirement already satisfied: numpy>=1.26.0 in c:\\users\\satya\\againt ai\\virtual\\lib\\site-packages (from pandas) (1.26.4)\n",
      "Requirement already satisfied: python-dateutil>=2.8.2 in c:\\users\\satya\\againt ai\\virtual\\lib\\site-packages (from pandas) (2.9.0.post0)\n",
      "Requirement already satisfied: pytz>=2020.1 in c:\\users\\satya\\againt ai\\virtual\\lib\\site-packages (from pandas) (2024.2)\n",
      "Requirement already satisfied: tzdata>=2022.7 in c:\\users\\satya\\againt ai\\virtual\\lib\\site-packages (from pandas) (2024.2)\n",
      "Requirement already satisfied: six>=1.5 in c:\\users\\satya\\againt ai\\virtual\\lib\\site-packages (from python-dateutil>=2.8.2->pandas) (1.16.0)\n",
      "Note: you may need to restart the kernel to use updated packages.\n"
     ]
    }
   ],
   "source": [
    "pip install pandas\n"
   ]
  },
  {
   "cell_type": "code",
   "execution_count": 12,
   "id": "7eda8af2-b6fc-4c06-9a4f-0cbb89daed76",
   "metadata": {},
   "outputs": [
    {
     "name": "stdout",
     "output_type": "stream",
     "text": [
      "Requirement already satisfied: google-search-results in c:\\users\\satya\\againt ai\\virtual\\lib\\site-packages (2.4.2)Note: you may need to restart the kernel to use updated packages.\n",
      "\n",
      "Requirement already satisfied: requests in c:\\users\\satya\\againt ai\\virtual\\lib\\site-packages (from google-search-results) (2.32.3)\n",
      "Requirement already satisfied: charset-normalizer<4,>=2 in c:\\users\\satya\\againt ai\\virtual\\lib\\site-packages (from requests->google-search-results) (3.4.0)\n",
      "Requirement already satisfied: idna<4,>=2.5 in c:\\users\\satya\\againt ai\\virtual\\lib\\site-packages (from requests->google-search-results) (3.10)\n",
      "Requirement already satisfied: urllib3<3,>=1.21.1 in c:\\users\\satya\\againt ai\\virtual\\lib\\site-packages (from requests->google-search-results) (2.2.3)\n",
      "Requirement already satisfied: certifi>=2017.4.17 in c:\\users\\satya\\againt ai\\virtual\\lib\\site-packages (from requests->google-search-results) (2024.8.30)\n"
     ]
    }
   ],
   "source": [
    "pip install google-search-results\n"
   ]
  },
  {
   "cell_type": "code",
   "execution_count": null,
   "id": "81912445-f730-40a0-820d-707b91e73dc9",
   "metadata": {},
   "outputs": [],
   "source": []
  }
 ],
 "metadata": {
  "kernelspec": {
   "display_name": "virtual",
   "language": "python",
   "name": "python3"
  },
  "language_info": {
   "codemirror_mode": {
    "name": "ipython",
    "version": 3
   },
   "file_extension": ".py",
   "mimetype": "text/x-python",
   "name": "python",
   "nbconvert_exporter": "python",
   "pygments_lexer": "ipython3",
   "version": "3.12.7"
  }
 },
 "nbformat": 4,
 "nbformat_minor": 5
}
